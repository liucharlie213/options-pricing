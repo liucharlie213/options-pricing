{
 "cells": [
  {
   "cell_type": "markdown",
   "metadata": {},
   "source": [
    "# COMS W1002 Computing in Context: Computational Finance  \n",
    "## Professor Karl Sigman\n",
    "## Option Pricing Using Monte Carlo Simulation"
   ]
  },
  {
   "cell_type": "markdown",
   "metadata": {},
   "source": [
    "__Problem 1:__ For the values of $p=0.5$ and $p=0.75$ obtain an estimate of $p$ by using Monte Carlo Simulation with $n=100, n=1000, n=10,000$ You will generate $n$ _iid_ Bernoulli $(p)$ random variables $B_1, ..., B_n$ and use as the estimate $$ \\hat{p}= \\frac{1}{n}\\sum_{i=1}^{n}B_i $$ \n",
    "This is to show you (convince you) how accurate the Monte Carlo method can be, and how the Strong Law of Large Numbers (SLLN) works in practice."
   ]
  },
  {
   "cell_type": "markdown",
   "metadata": {},
   "source": [
    "**People I Collaborated With**\n",
    "\n",
    "TAs: Ricky, Melody, Kevin\n",
    "\n",
    "Students: Noa, Anna, Antonia"
   ]
  },
  {
   "cell_type": "markdown",
   "metadata": {},
   "source": [
    "**Problem 1 README:**\n",
    "For Problem 1 I used the files provided by Cannon on probability review, BLM, and the Monte Carlo simulation to create a function, bernoulli(), that generates a bernoulli random variable by comparing a randomly generated variable to an input probability. Using that bernoulli() function, I wrote the function estimate_p() which averages a summation of randomly generated bernoulli random variables to estimate different p values\n",
    "\n",
    "I named the first function bernoulli() because it was generating a bernoulli random variable and I named the second function estimate_p() because it took in a p and n value to generate an estimate of p."
   ]
  },
  {
   "cell_type": "code",
   "execution_count": 1,
   "metadata": {},
   "outputs": [],
   "source": [
    "import random \n",
    "\n",
    "def bernoulli(p):\n",
    "# generates a bernoulli random variable \n",
    "    rv_u = random.random()\n",
    "    if rv_u < p:\n",
    "        bern = 1\n",
    "    else:\n",
    "        bern = 0\n",
    "    return bern"
   ]
  },
  {
   "cell_type": "code",
   "execution_count": 9,
   "metadata": {},
   "outputs": [
    {
     "name": "stdout",
     "output_type": "stream",
     "text": [
      "Value of p-hat when n = 100:  0.5007400000000001\n",
      "Value of p-hat when n = 100:  0.69923\n",
      "\n",
      "Value of p-hat when n = 1000:  0.49927000000000005\n",
      "Value of p-hat when n = 1000:  0.75212\n",
      "\n",
      "Value of p-hat when n = 10000:  0.49790000000000006\n",
      "Value of p-hat when n = 10000:  0.7509800000000001\n"
     ]
    }
   ],
   "source": [
    "def estimate_p(n, p):\n",
    "    p_hat = 0\n",
    "\n",
    "    for i in range(1, n+1):\n",
    "        p_hat += bernoulli(p)\n",
    "    return (1/n)*p_hat\n",
    "\n",
    "print(\"Value of p-hat when n = 100: \", estimate_p(100000, 0.5))\n",
    "print(\"Value of p-hat when n = 100: \", estimate_p(100000, 0.7))\n",
    "print()\n",
    "print(\"Value of p-hat when n = 1000: \", estimate_p(100000, 0.5))\n",
    "print(\"Value of p-hat when n = 1000: \", estimate_p(100000, 0.75))\n",
    "print()\n",
    "print(\"Value of p-hat when n = 10000: \", estimate_p(100000, 0.5))\n",
    "print(\"Value of p-hat when n = 10000: \", estimate_p(100000, 0.75))"
   ]
  },
  {
   "cell_type": "markdown",
   "metadata": {},
   "source": [
    "__Problem 2:__ Recall the formula for computing the price $C_0$ of an option (derivative of the BLM stock prices) That yields a payoff at time $T$, denote by $C_T$:\n",
    "$$ C_0 = \\frac{1}{(1+r)^T}E^*(C_T), $$  \n",
    "\n",
    "where $*$ refers to the fact that we must use the value $p^*$ instead of the original (real) $P$ for the up/down probability of the BLM. (The real value of $P$ is not needed for priciing.) Also recall that for $C_T = (S_T - K)^+$, the European call option, the expected value, $E^*(S_T-K)^+$ can be computed explicitly yielding the famous Black-Scholes-Merton option pricing formula:  \n",
    "$$ C_0 = \\frac{1}{(1+r)^T}\\sum_{k=0}^{T} \\left( \\begin{array}{c}\n",
    "T \\\\ k  \\end{array} \\right )(p^*)^k(1-p^*)^{T-k}(u^k d^{T-k}S_0-K)^+ . $$  \n",
    "\n",
    "You are to use this formula to exactly obtain the price on the one hand, and then use Monte Carlo simulation on the other hand to compare and thus see how accurate the Monte Carlo method can be. \n",
    "\n",
    "Here are the parameters to use: $T = 10, r = 0.05, u = 1.15, d= 1.01, p =.05, S_0 = 50, K = 70$. Recall that \n",
    "$$ p^* = \\frac{1+r-d}{u-d} . $$  \n",
    "\n",
    "For the Monte Carlo, use $n=100, n=1000, n=10,000$ _iid_ copies of $C_T$ (for averaging) to see how it gets more accurate as $n$ increases."
   ]
  },
  {
   "cell_type": "markdown",
   "metadata": {},
   "source": [
    "**Problem 2 README:**\n",
    "For Problem 2, first I created functions fact() and positive() and a universal variable p_a to use throughout the rest of the HW problems. Next, I created the function exact_value and entered the entire Black-Scholes-Merton option pricing formula to calculate the exact stock price using the given parameters. Next, using the formulas in the BLM files provided by Cannon, I calculated the estimated the option price, C0, using two functions BLM() and CT_euro() in order to compare to the previously calculated exact price.\n",
    "\n",
    "I named the function fact() because it preforms a factorial on the input and the next function positive() beause it tests for the positiveness of the input. I created these functions and variable so that I could shorten parts of my code and avoid typing out a new if-statement to test for positiveness in every problem.\n",
    "\n",
    "For the first part of Problem 2, I named the function exact_value() because it calculates the explicit value of the stock price using the European call option. \n",
    "\n",
    "For the next part of Problem 2 I named the function BLM() because using a binomial lattice model it returns a stock price ST at time T = 10 using randomly generated random variables. I named the next function CT_euro because using the European Call option, it generates an estimate of CT. I named the last function euro_call because it uses a Monte Carlo simulation to estimate C0, the European call option price."
   ]
  },
  {
   "cell_type": "code",
   "execution_count": 3,
   "metadata": {},
   "outputs": [],
   "source": [
    "# functions and a universal variable used in the rest of the HW problems \n",
    "\n",
    "import math\n",
    "# function to compute a factorial of the input \n",
    "def fact(a):\n",
    "    return math.factorial(a)\n",
    "\n",
    "def positive(x):\n",
    "# function to test for positiveness \n",
    "    if x > 0:\n",
    "        return x\n",
    "    else:\n",
    "        return 0\n",
    "\n",
    "p_a = (1 + 0.05 - 1.01)/(1.15 - 1.01)\n",
    "# universal variable calculating p* used when calling functions"
   ]
  },
  {
   "cell_type": "code",
   "execution_count": 4,
   "metadata": {},
   "outputs": [
    {
     "name": "stdout",
     "output_type": "stream",
     "text": [
      "Exact price of the option on T = 10: $ 7.94\n"
     ]
    }
   ],
   "source": [
    "def exact_value(T, r, u, d, S0, K):\n",
    "# function that calculates the present value of the option\n",
    "    exact = 0\n",
    "    p_a = (1 + r - d)/(u - d)\n",
    "    for k in range(T+1):\n",
    "        exact += (fact(T)/(fact(k)*fact(T-k)))*(p_a**k*(1-p_a)**(T-k))*positive(u**k*d**(T-k)*S0- K)\n",
    "    return round(1/((1+r)**T)*exact, 2)\n",
    "\n",
    "print('Exact price of the option on T = 10: $', exact_value(10, 0.05, 1.15, 1.01, 50, 70))"
   ]
  },
  {
   "cell_type": "code",
   "execution_count": 5,
   "metadata": {},
   "outputs": [
    {
     "name": "stdout",
     "output_type": "stream",
     "text": [
      "Estimate of option price when n = 100: $ 9.85\n",
      "Estimate of option price when n = 1000: $ 7.83\n",
      "Estimate of option price when n = 10000: $ 7.89\n"
     ]
    }
   ],
   "source": [
    "import random\n",
    "\n",
    "def BLM(p, T, u, d, S0):\n",
    "# BLM function which returns the ST price for T=10 in a cumulative fashion\n",
    "    ST = S0\n",
    "    for i in range(T):\n",
    "        rv = random.random()\n",
    "        if rv < p:\n",
    "            ST *= u\n",
    "        else:\n",
    "            ST *= d\n",
    "        # ST either goes up or down, decided by the Bernoulli distribution\n",
    "    return ST\n",
    "\n",
    "def CT_euro(K):\n",
    "# calculates CT when the option is being priced using the European call option\n",
    "# returns the stock price ST when T = 10\n",
    "    CT_estimate = positive(BLM(p_a, 10, 1.15, 1.01, 50) - K)\n",
    "    return CT_estimate\n",
    "\n",
    "def euro_call(n, r, T):\n",
    "# uses a Monte Carlo simulation to estimate the European call option price \n",
    "    C0_estimate = 0\n",
    "    for i in range(1, n+1):\n",
    "        C0_estimate += CT_euro(70)\n",
    "    return(1/(1+r)**T)*(1/n)*C0_estimate\n",
    "    # compares to the explicitly calculated Black-Scholes value\n",
    "\n",
    "print('Estimate of option price when n = 100: $',round(euro_call(100, 0.05, 10),2) )\n",
    "print('Estimate of option price when n = 1000: $',round(euro_call(1000, 0.05, 10),2) )\n",
    "print('Estimate of option price when n = 10000: $',round(euro_call(100000, 0.05, 10),2) )"
   ]
  },
  {
   "cell_type": "markdown",
   "metadata": {},
   "source": [
    "__Problem 3__: With the same parameters as in Problem 2, price the _Asian call option:_ The payoff $C_T$ at atime $T$ is based on the average value of the stock over the $T$ time units:\n",
    "$$ C_T = \\left( \\frac{1}{T} \\sum_{i=1}^{T} S_i-K \\right)^+ $$  \n",
    "\n",
    "Use $n=100, n=1000, n=10,000$ _iid_ copies of $C_T$ (for averaging)."
   ]
  },
  {
   "cell_type": "markdown",
   "metadata": {},
   "source": [
    "**Problem 3 README:**\n",
    "For Problem 3 I first modified my previous BLM() function to create the BLMmod() function which returns the sum of all stock prices from T = 1 to T = 10, instead of just the final stock price at T = 10. Next I created the function CT_asian, which estimates CT by averaging the sum of the stock prices. Finally I created function asian_call() which uses a Monte Carlo simulation to estimate C0 and price the Asian call option.\n",
    "\n",
    "I named the function BLMmod() because it is a modified version of my previous BLM() function, I named the next function CT_asian because it estimates CT using under the Asian call option. I named the last function asian_call() because it uses a Monte Carlo simulation estimate C0, now the Asian call option price"
   ]
  },
  {
   "cell_type": "code",
   "execution_count": 6,
   "metadata": {},
   "outputs": [
    {
     "name": "stdout",
     "output_type": "stream",
     "text": [
      "Estimate of option price when n = 100: $ 0.92\n",
      "Estimate of option price when n = 1000: $ 1.28\n",
      "Estimate of option price when n = 10000: $ 1.11\n"
     ]
    }
   ],
   "source": [
    "def BLMmod(p, T, u, d, S0):\n",
    "# modified BLM function that returns sum of all stock prices from S1 to S10\n",
    "    ST = S0\n",
    "    ST_sum = 0\n",
    "    # use a summation instead of list for efficieny  \n",
    "    for i in range(T):\n",
    "        rv = random.random()\n",
    "        if rv < p:\n",
    "            ST *= u\n",
    "        else:\n",
    "            ST *= d\n",
    "        ST_sum += ST\n",
    "    return ST_sum\n",
    "\n",
    "def CT_asian(K,T):\n",
    "# calculates CT when the option is being priced by the Asian call option\n",
    "# averages the stock prices ST from T =1 to T =10 \n",
    "    ST = (1/T)*BLMmod(p_a,10, 1.15, 1.01, 50)\n",
    "    CT = positive(ST - K)\n",
    "    return CT\n",
    "\n",
    "def asian_call(r,n,T):\n",
    "# uses a Monte Carlo simulation to estimate the Asian call option price\n",
    "    C0_estimate = 0\n",
    "    for i in range(0, n):\n",
    "        C0_estimate += CT_asian(70, 10)\n",
    "    return (1/(1+r)**T)*(1/n)*C0_estimate\n",
    "asian_call(0.05, 10000, 10)\n",
    "    \n",
    "print('Estimate of option price when n = 100: $', round(asian_call(0.05, 100, 10), 2))\n",
    "print('Estimate of option price when n = 1000: $', round(asian_call(0.05, 1000, 10), 2))\n",
    "print('Estimate of option price when n = 10000: $', round(asian_call(0.05, 10000, 10), 2))"
   ]
  },
  {
   "cell_type": "markdown",
   "metadata": {},
   "source": [
    "__Problem 4__: With the same parameters as in Problem 2, but the additional parameters $n_1 = 4, n_2 =6,$ and $b=66$: price a _down and out barrier option_, that has payoff at time $T$ of  \n",
    "\n",
    "$$ C_T = (S_T -K)^+ I \\{ S_{n_1} \\geq b, S_{n_2} \\geq b \\}.$$ \n",
    "\n",
    "Use $n=100, n=1000, n=10,000$ _iid_ copies of $C_T$ (for averaging).\n",
    "\n",
    "In the above, recall that for any event $A$, $I\\{A\\}$ denotes the _indicator_ random variable defined by  \n",
    "$$ I\\{A\\} = \\left\\{ \\begin{array}{ll} 1 & \\mbox{if $A$ occurs,} \\\\ 0 & \\mbox{if $A$ does not occur.} \\end{array} \\right. $$\n",
    "\n",
    "  \n",
    "Here, $A = \\{S_{n_1} \\geq b, S_{n_2} \\geq b\\}$.\n"
   ]
  },
  {
   "cell_type": "markdown",
   "metadata": {},
   "source": [
    "**Problem 4 README:**\n",
    "For Problem 4, I modified my original BLM() function again to create my BLMmod2() function which returns a list of all the stock prices ST from T = 1 to T = 10. Next, I created function CT_barrier() which checks for the extra conditions posed by the down and out barrier option and estimates CT. The function CT_barrier checks the boolean statements in order to produce a value for the indicator random variable I, and then using the stock price on the last date (aka ST where T = 10), it calculates CT. The last function barrier_call() uses a Monte Carlo simulation to estimate the down and out barrier option.\n",
    "\n",
    "I named the function BLMmod2() because it is the second modified version of my previous BLM() function. Within the BLMmod2() funciton, I named the list BLMpath because the stock prices in the list represent the path that the stock price takes as T moves from T = 1 to T = 10. Next, I named the next function CT_barrier() because it estimates CT under a down and out barrier option. I named the last function barrier_call() because it estimates C0, the down and out barrier option price."
   ]
  },
  {
   "cell_type": "code",
   "execution_count": 8,
   "metadata": {},
   "outputs": [
    {
     "name": "stdout",
     "output_type": "stream",
     "text": [
      "Estimate of option price when n = 100: $ 3.64\n",
      "Estimate of option price when n = 1000: $ 4.94\n",
      "Estimate of option price when n = 10000: $ 4.65\n"
     ]
    }
   ],
   "source": [
    "def BLMmod2(p, T, u, d, S0, n1, n2, b):\n",
    "# modified BLM function that returns the path of the stock prices from T=1 to T=10\n",
    "    BLMpath = []\n",
    "    # path of the stock prices ST from T = 1 to T = 10\n",
    "    # helps keep track of the stock price of each day\n",
    "    ST = S0\n",
    "    for i in range(T):\n",
    "        rv = random.random()\n",
    "        if rv < p:\n",
    "            ST *= u\n",
    "        else:\n",
    "            ST *= d \n",
    "        BLMpath.append(ST)\n",
    "    return BLMpath\n",
    "\n",
    "def CT_barrier(n1, n2, b, K):\n",
    "# calculates CT when option is priced by down and out barrier option \n",
    "    BLM_list = BLMmod2(p_a,10, 1.15, 1.01, 50, 4, 6,66)\n",
    "    if BLM_list[n1-1] >= b and BLM_list[n2-1] >= b:\n",
    "        I_value = 1\n",
    "    else:\n",
    "        I_value = 0\n",
    "    # generate I_value in this function \n",
    "    # so the same BLMpath is used for the whole CT calculation\n",
    "    ST = BLM_list[-1] \n",
    "    Ct = positive(ST - K)*I_value\n",
    "    return Ct\n",
    "CT_barrier(4, 6, 66, 70)\n",
    "        \n",
    "def barrier_call(r, T, n):\n",
    "# uses a Monte Carlo simulation to estimate the down and out barrier option\n",
    "    C0_estimate = 0\n",
    "    for i in range(n):\n",
    "        C0_estimate += CT_barrier(4, 6, 66, 70)\n",
    "    return (1/(1+r)**T)*(1/n)*C0_estimate\n",
    "barrier_call(0.05, 10, 10000)\n",
    "\n",
    "print('Estimate of option price when n = 100: $', round(barrier_call(0.05, 10, 100), 2))\n",
    "print('Estimate of option price when n = 1000: $', round(barrier_call(0.05, 10, 1000), 2))\n",
    "print('Estimate of option price when n = 10000: $', round(barrier_call(0.05, 10, 10000), 2))"
   ]
  }
 ],
 "metadata": {
  "kernelspec": {
   "display_name": "Python 3",
   "language": "python",
   "name": "python3"
  },
  "language_info": {
   "codemirror_mode": {
    "name": "ipython",
    "version": 3
   },
   "file_extension": ".py",
   "mimetype": "text/x-python",
   "name": "python",
   "nbconvert_exporter": "python",
   "pygments_lexer": "ipython3",
   "version": "3.8.8"
  }
 },
 "nbformat": 4,
 "nbformat_minor": 1
}
